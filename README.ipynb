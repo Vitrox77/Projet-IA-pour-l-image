{
 "cells": [
  {
   "attachments": {},
   "cell_type": "markdown",
   "metadata": {},
   "source": [
    "# IA pour l'image\n",
    "\n",
    "## Groupe :\n",
    "\n",
    "- JOUDIOUX Alexandre\n",
    "- JOUEN Matthias\n",
    "- COURTOIS Fabien\n",
    "\n",
    "|  Dataset \\ Méthode    |   CNN |   BagOfWords |   SVM |\n",
    "|---    |:-:    |:-:    |:-:    |\n",
    "|   Cats and Dogs   |  OK (80%)   |   |  OK (67%)  |\n",
    "|   Intel Images   |   OK (78.33%)   |  OK (17%) |   OK (64%) |\n",
    "|   MNIST  |   OK (98%)  |   |   |\n",
    "\n"
   ]
  },
  {
   "attachments": {},
   "cell_type": "markdown",
   "metadata": {},
   "source": [
    "## Conclusion\n",
    "\n",
    "Les réseaux de neurones convolutifs (CNN) sont souvent considérés comme la méthode la plus performante pour la classification d'images en raison de leur capacité à extraire des caractéristiques importantes à partir des images brutes et à les utiliser pour la classification. Contrairement à d'autres méthodes telles que la méthode Bag of Word, qui ne considère que les occurrences de mots dans l'image, les CNN prennent en compte la structure spatiale des pixels dans l'image. Cela permet aux CNN de reconnaître les motifs dans les images avec une grande précision, même lorsque les images sont très similaires.\n",
    "\n",
    "Les CNN sont également capables d'apprendre à reconnaître des caractéristiques de manière autonome, sans nécessiter de paramètres de caractéristiques pré-définis.\n",
    "\n",
    "Au milieu de tout ça se rajoute les SVM, qui sont également capables de classifier des images en utilisant une méthode de classification supervisée. Contrairement aux CNN, les SVM utilisent des caractéristiques extraites manuellement pour la classification, plutôt que d'extraire des caractéristiques à partir de l'image brute. Cela signifie que les SVM peuvent être plus efficaces lorsque les images sont bien comprises et que des caractéristiques claires peuvent être extraites de chaque image. Les SVM sont également utiles pour les problèmes de classification binaire, où l'objectif est de séparer deux classes d'images.\n",
    "\n",
    "Pour des tâches plus complexes, les SVM seront moins précis que les CNN.\n",
    "\n",
    "En conclusion, les CNN sont souvent considérés comme la meilleure méthode pour la classification d'images en raison de leur capacité à extraire des caractéristiques importantes à partir d'images brutes, leur capacité à apprendre de manière autonome et leur vitesse de traitement rapide. Cependant il faudra peut-être parfois choisir les SVM dépendant de la situation."
   ]
  }
 ],
 "metadata": {
  "kernelspec": {
   "display_name": "IA-pour-image",
   "language": "python",
   "name": "python3"
  },
  "language_info": {
   "name": "python",
   "version": "3.9.16"
  },
  "orig_nbformat": 4,
  "vscode": {
   "interpreter": {
    "hash": "88697ed92e9419ec8dc0df988f3303634081a64f7fa51e36e49b0d0b188f3e6b"
   }
  }
 },
 "nbformat": 4,
 "nbformat_minor": 2
}
